{
 "cells": [
  {
   "cell_type": "markdown",
   "metadata": {},
   "source": [
    "# **Tópicos do Projeto**\n",
    "\n",
    "<ol type=\"1\">\n",
    "  <li>Telegram;</li>\n",
    "  <li>Ingestão;</li>\n",
    "  <li>ETL;</li>\n",
    "  <li>Apresentação;</li>\n",
    "  <li>Storytelling.</li>\n",
    "</ol>"
   ]
  },
  {
   "cell_type": "markdown",
   "metadata": {},
   "source": [
    "## 1 Telegram"
   ]
  },
  {
   "cell_type": "markdown",
   "metadata": {},
   "source": [
    "1.1. Primeiros passos"
   ]
  },
  {
   "cell_type": "markdown",
   "metadata": {},
   "source": [
    "> 1 - Se você ainda não tiver uma conta no Telegram, crie uma e faça o login na versão web da plataforma acessando este [link](https://web.telegram.org).\n",
    "\n",
    "> 2 - Crie um bot.\n",
    "\n",
    "> 3 - Crie um grupo e adicione o bot\n",
    "\n",
    "> 4 - Transforme o bot em um administrador do grupo.\n",
    "\n",
    "> 5 - Desabilite a opção de adicionar o bot a novos grupos.\n",
    "\n",
    "> 6 - Envie mensagens no grupo e consuma utilizando a API de bots do **Telegram**."
   ]
  },
  {
   "cell_type": "code",
   "execution_count": null,
   "metadata": {},
   "outputs": [],
   "source": [
    "# A biblioteca getpass permite que você utilize senhas ou dados sensíveis de forma segura\n",
    "from getpass import getpass\n",
    "\n",
    "token = getpass()"
   ]
  },
  {
   "cell_type": "markdown",
   "metadata": {},
   "source": [
    "## 2 Ingestão"
   ]
  },
  {
   "cell_type": "markdown",
   "metadata": {},
   "source": [
    "## 3 ETL"
   ]
  },
  {
   "cell_type": "markdown",
   "metadata": {},
   "source": [
    "## 4 Apresentação"
   ]
  },
  {
   "cell_type": "markdown",
   "metadata": {},
   "source": [
    "## 5 Storytelling"
   ]
  }
 ],
 "metadata": {
  "kernelspec": {
   "display_name": "env01",
   "language": "python",
   "name": "python3"
  },
  "language_info": {
   "name": "python",
   "version": "3.10.15"
  }
 },
 "nbformat": 4,
 "nbformat_minor": 2
}
